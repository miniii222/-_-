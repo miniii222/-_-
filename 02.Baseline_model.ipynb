{
  "cells": [
    {
      "metadata": {
        "_uuid": "8f2839f25d086af736a60e9eeb907d3b93b6e0e5",
        "_cell_guid": "b1076dfc-b9ad-4769-8c92-a6c4dae69d19",
        "trusted": true
      },
      "cell_type": "code",
      "source": "# This Python 3 environment comes with many helpful analytics libraries installed\n# It is defined by the kaggle/python docker image: https://github.com/kaggle/docker-python\n# For example, here's several helpful packages to load in \n\nimport numpy as np # linear algebra\nimport pandas as pd # data processing, CSV file I/O (e.g. pd.read_csv)\n\n# Input data files are available in the \"../input/\" directory.\n# For example, running this (by clicking run or pressing Shift+Enter) will list the files in the input directory\n\nimport os\nprint(os.listdir(\"../input\"))\n\n# Any results you write to the current directory are saved as output.",
      "execution_count": 1,
      "outputs": [
        {
          "output_type": "stream",
          "text": "['train_ver2.csv', 'test_ver2.csv', 'sample_submission.csv']\n",
          "name": "stdout"
        }
      ]
    },
    {
      "metadata": {
        "_cell_guid": "79c7e3d0-c299-4dcb-8224-4455121ee9b0",
        "_uuid": "d629ff2d2480ee46fbb7e2d37f6b5fab8052498a",
        "trusted": true
      },
      "cell_type": "code",
      "source": "import xgboost as xgb",
      "execution_count": 2,
      "outputs": []
    },
    {
      "metadata": {
        "trusted": true,
        "_uuid": "0e76578c7aa33a6adb3b86aebedb54c88095eeb6"
      },
      "cell_type": "code",
      "source": "train = pd.read_csv('../input/train_ver2.csv')\ntest = pd.read_csv('../input/test_ver2.csv')",
      "execution_count": 2,
      "outputs": [
        {
          "output_type": "stream",
          "text": "/opt/conda/lib/python3.6/site-packages/IPython/core/interactiveshell.py:2785: DtypeWarning: Columns (5,8,11,15) have mixed types. Specify dtype option on import or set low_memory=False.\n  interactivity=interactivity, compiler=compiler, result=result)\n/opt/conda/lib/python3.6/site-packages/IPython/core/interactiveshell.py:2785: DtypeWarning: Columns (15) have mixed types. Specify dtype option on import or set low_memory=False.\n  interactivity=interactivity, compiler=compiler, result=result)\n",
          "name": "stderr"
        }
      ]
    },
    {
      "metadata": {
        "trusted": true,
        "_uuid": "e3483bd27f540e3cceafe55a212d7282803fae54"
      },
      "cell_type": "code",
      "source": "test.shape",
      "execution_count": 4,
      "outputs": [
        {
          "output_type": "execute_result",
          "execution_count": 4,
          "data": {
            "text/plain": "(929615, 24)"
          },
          "metadata": {}
        }
      ]
    },
    {
      "metadata": {
        "trusted": true,
        "_uuid": "c2c9a032841fbe578ceccaf725fce34e4657644b"
      },
      "cell_type": "code",
      "source": "#제품이름\nprods = train.columns[24:].tolist()",
      "execution_count": 3,
      "outputs": []
    },
    {
      "metadata": {
        "trusted": true,
        "_uuid": "9ed1f2ba9ce761b03256fd473a511241e4716216"
      },
      "cell_type": "code",
      "source": "train[prods].isnull().sum()",
      "execution_count": 7,
      "outputs": [
        {
          "output_type": "execute_result",
          "execution_count": 7,
          "data": {
            "text/plain": "ind_ahor_fin_ult1        0\nind_aval_fin_ult1        0\nind_cco_fin_ult1         0\nind_cder_fin_ult1        0\nind_cno_fin_ult1         0\nind_ctju_fin_ult1        0\nind_ctma_fin_ult1        0\nind_ctop_fin_ult1        0\nind_ctpp_fin_ult1        0\nind_deco_fin_ult1        0\nind_deme_fin_ult1        0\nind_dela_fin_ult1        0\nind_ecue_fin_ult1        0\nind_fond_fin_ult1        0\nind_hip_fin_ult1         0\nind_plan_fin_ult1        0\nind_pres_fin_ult1        0\nind_reca_fin_ult1        0\nind_tjcr_fin_ult1        0\nind_valo_fin_ult1        0\nind_viv_fin_ult1         0\nind_nomina_ult1      16063\nind_nom_pens_ult1    16063\nind_recibo_ult1          0\ndtype: int64"
          },
          "metadata": {}
        }
      ]
    },
    {
      "metadata": {
        "trusted": true,
        "_uuid": "fe82216232fa874686f5680c7bf4ebf757ee4d4f"
      },
      "cell_type": "code",
      "source": "#제품 변수 결측치 0으로\ntrain[prods] = train[prods].fillna(0.0).astype(np.int8)",
      "execution_count": 4,
      "outputs": []
    },
    {
      "metadata": {
        "trusted": true,
        "_uuid": "27f5391d105770306dd70cf8486f23d5379a3b36"
      },
      "cell_type": "code",
      "source": "#24개 제품 중 하나도 보유하지 않은 고객데이터 제거\nno_product = train[prods].sum(axis=1) == 0\ntrain = train[~no_product]",
      "execution_count": 5,
      "outputs": []
    },
    {
      "metadata": {
        "trusted": true,
        "_uuid": "5e917b21701668882ec3222342ba7c6587c011bf"
      },
      "cell_type": "code",
      "source": "for col in prods :\n    test[col] = 0 #일단 test 데이터에 target을 0으로 initialize\ndf = pd.concat([train,test], axis = 0)",
      "execution_count": 6,
      "outputs": []
    },
    {
      "metadata": {
        "trusted": true,
        "_uuid": "5bb4af1a7de2d93cc164b2cf67fbaef6c1439135"
      },
      "cell_type": "code",
      "source": "del train\ndel test",
      "execution_count": 7,
      "outputs": []
    },
    {
      "metadata": {
        "trusted": true,
        "_uuid": "c687d897f7dd6dc309a3fdc75e138546002c61db"
      },
      "cell_type": "code",
      "source": "df.shape",
      "execution_count": 14,
      "outputs": [
        {
          "output_type": "execute_result",
          "execution_count": 14,
          "data": {
            "text/plain": "(12020685, 48)"
          },
          "metadata": {}
        }
      ]
    },
    {
      "metadata": {
        "trusted": true,
        "_uuid": "2e112c0c430c83bc322fa1bc7ab982c3b392c273"
      },
      "cell_type": "code",
      "source": "#학습에 필요한 변수를 담는 list\nfeatures = []",
      "execution_count": 8,
      "outputs": []
    },
    {
      "metadata": {
        "_uuid": "925fdc8f6811ca49151f1354b4c8c96b3825e54d"
      },
      "cell_type": "markdown",
      "source": "### 범주형 변수들"
    },
    {
      "metadata": {
        "trusted": true,
        "_uuid": "5734cb457ca58ec01e86de27030d71d22c83c403"
      },
      "cell_type": "code",
      "source": "categorical_cols = ['ind_empleado', 'pais_residencia', 'sexo', 'tiprel_1mes', 'indresi', 'indext', 'conyuemp', 'canal_entrada', 'indfall', 'tipodom', 'nomprov', 'segmento']\nfor col in categorical_cols :\n    df[col], _ = df[col].factorize(na_sentinel =-99) #범주형 변수들의 factor값들을 숫자로\n    \nfeatures+=categorical_cols",
      "execution_count": 9,
      "outputs": []
    },
    {
      "metadata": {
        "trusted": true,
        "_uuid": "340a0e7c9f170046f5028c3b856e53854aa90459"
      },
      "cell_type": "code",
      "source": "df[col].head()",
      "execution_count": 20,
      "outputs": [
        {
          "output_type": "execute_result",
          "execution_count": 20,
          "data": {
            "text/plain": "0    0\n1    1\n2    1\n3    1\n4    1\nName: segmento, dtype: int64"
          },
          "metadata": {}
        }
      ]
    },
    {
      "metadata": {
        "_uuid": "72cf483d00fca535bbb7f3d0bb8c3c9126b31de2"
      },
      "cell_type": "markdown",
      "source": "### numeric variables"
    },
    {
      "metadata": {
        "trusted": true,
        "_uuid": "007f1df9cbac99a54c6712c2972ceb8a14f1c007"
      },
      "cell_type": "code",
      "source": "#NA값들 -99로 바꾸고 int 타입으로 변환\ndf['age'].replace(' NA', -99, inplace=True)\ndf['age'] = df['age'].astype(np.int8)\n\ndf['antiguedad'].replace('     NA', -99, inplace=True)\ndf['antiguedad'] = df['antiguedad'].astype(np.int8)\n\ndf['renta'].replace('         NA', -99, inplace=True)\ndf['renta'].fillna(-99, inplace=True)\ndf['renta'] = df['renta'].astype(float).astype(np.int8)\n\ndf['indrel_1mes'].replace('P', 5, inplace=True) #중간에 p라는 값이 있음\ndf['indrel_1mes'].fillna(-99, inplace=True)\ndf['indrel_1mes'] = df['indrel_1mes'].astype(float).astype(np.int8)",
      "execution_count": 16,
      "outputs": []
    },
    {
      "metadata": {
        "trusted": true,
        "_uuid": "8a80a4e32d2e7c585b28af35e98c26fe0e4ef46c"
      },
      "cell_type": "code",
      "source": "# 학습에 사용할 수치형 변수를 features에 추구한다.\nfeatures += ['age','antiguedad','renta','ind_nuevo','indrel','indrel_1mes','ind_actividad_cliente']",
      "execution_count": 17,
      "outputs": []
    },
    {
      "metadata": {
        "trusted": true,
        "_uuid": "5bd768ca1b11c434c1c030e736ad90a38e9289c0"
      },
      "cell_type": "code",
      "source": "",
      "execution_count": null,
      "outputs": []
    }
  ],
  "metadata": {
    "kernelspec": {
      "display_name": "Python 3",
      "language": "python",
      "name": "python3"
    },
    "language_info": {
      "name": "python",
      "version": "3.6.6",
      "mimetype": "text/x-python",
      "codemirror_mode": {
        "name": "ipython",
        "version": 3
      },
      "pygments_lexer": "ipython3",
      "nbconvert_exporter": "python",
      "file_extension": ".py"
    }
  },
  "nbformat": 4,
  "nbformat_minor": 1
}