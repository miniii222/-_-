{
  "cells": [
    {
      "metadata": {
        "_uuid": "07cd77bb252a08903b3276388b3d100c9f6e6f68"
      },
      "cell_type": "markdown",
      "source": "https://www.kaggle.com/gaborfodor/from-eda-to-the-top-lb-0-367"
    },
    {
      "metadata": {
        "_uuid": "8f2839f25d086af736a60e9eeb907d3b93b6e0e5",
        "_cell_guid": "b1076dfc-b9ad-4769-8c92-a6c4dae69d19",
        "trusted": true
      },
      "cell_type": "code",
      "source": "# This Python 3 environment comes with many helpful analytics libraries installed\n# It is defined by the kaggle/python docker image: https://github.com/kaggle/docker-python\n# For example, here's several helpful packages to load in \n\nimport numpy as np # linear algebra\nimport pandas as pd # data processing, CSV file I/O (e.g. pd.read_csv)\n\n# Input data files are available in the \"../input/\" directory.\n# For example, running this (by clicking run or pressing Shift+Enter) will list the files in the input directory\n\nimport os\nprint(os.listdir(\"../input\"))\n\n# Any results you write to the current directory are saved as output.",
      "execution_count": null,
      "outputs": []
    },
    {
      "metadata": {
        "_cell_guid": "79c7e3d0-c299-4dcb-8224-4455121ee9b0",
        "_uuid": "d629ff2d2480ee46fbb7e2d37f6b5fab8052498a",
        "trusted": true
      },
      "cell_type": "code",
      "source": "from datetime import timedelta\nimport datetime as dt\nimport matplotlib.pyplot as plt\nplt.rcParams['figure.figsize'] = [16,10]\nimport seaborn as sns\nimport xgboost as xgb\nfrom sklearn.model_selection import train_test_split\nfrom sklearn.decomposition import PCA\nfrom sklearn.cluster import MiniBatchKMeans\nimport warnings\nwarnings.filterwarnings('ignore')",
      "execution_count": null,
      "outputs": []
    },
    {
      "metadata": {
        "trusted": true,
        "_uuid": "6f5bdd181ae2c747da6f5790d6eec0193746136d"
      },
      "cell_type": "code",
      "source": "beluga = pd.DataFrame({'since_start_hour': [8.0, 8.0, 20.0, 28.0, 37.0, 45.0, 85.0, 85.0, 100.0, 134.0, 134.0, 143.0, 148.0],\n                       'Score': [ 0.400,  0.398,  0.393,  0.390,  0.383,  0.380,  0.379,  0.377,  0.376,  0.376,  0.375,  0.371,  0.368]})\nothers = pd.DataFrame({'since_start_hour': [0,1,2,3,4,5,6,7,8,9,10,11,12,13,14,15,16,17,18,19,20,21,22,23,24,25,26,27,28,29,30,31,32,33,34,35,36,37,38,39,40,41,42,43,44,45,46,47,48,49,50,51,52,53,54,55,56,57,58,59,60,61,62,63,64,65,66,68,69,70,71,72,73,74,75,76,77,78,79,80,81,83,84,85,86,87,88,89,90,91,92,93,94,95,96,97,98,99,100,101,102,103,104,105,106,107,108,109,110,111,112,113,114,115,116,117,118,119,120,121,122,123,124,125,126,127,128,129,130,131,132,133,134,135,136,137,138,139,140,141,142,143,144,145,146,147,148],\n                        'BestScore': [.452,.452,.452,.452,.452,.452,.421,.421,.421,.406,.398,.398,.398,.398,.394,.394,.394,.394,.391,.391,.390,.390,.390,.390,.389,.389,.389,.389,.389,.389,.389,.385,.385,.385,.385,.385,.385,.385,.385,.385,.385,.385,.385,.383,.383,.383,.383,.383,.383,.383,.383,.383,.383,.383,.378,.378,.378,.378,.378,.378,.378,.378,.378,.378,.378,.378,.378,.378,.378,.378,.378,.378,.378,.378,.378,.378,.378,.378,.378,.378,.378,.378,.378,.378,.378,.378,.378,.378,.378,.378,.377,.377,.377,.377,.377,.377,.377,.377,.377,.377,.377,.377,.377,.377,.377,.377,.377,.377,.377,.377,.377,.377,.377,.377,.377,.377,.377,.377,.377,.377,.377,.377,.377,.377,.377,.377,.377,.377,.377,.377,.377,.377,.377,.377,.377,.377,.377,.377,.377,.377,.377,.377,.377,.377,.373,.373,.373]}) \n\nwith plt.xkcd() :\n    fig, ax = plt.subplots()\n    ax.plot(others.since_start_hour.values, others.BestScore.values, 'b', alpha = 0.8, lw = 5, label = 'others')\n    ax.plot(beluga.since_start_hour.values, beluga.Score.values, 'k', alpha = 0.8, lw = 5, label = 'beluga')\n    ax.set_ylim(0.36,0.4)\n    ax.legend(loc =0)\n    ax.set_xlabel('hours since start')\n    ax.set_ylabel('RMSLE')\n    ax.set_title('Race for the top')\n    plt.show()",
      "execution_count": null,
      "outputs": []
    },
    {
      "metadata": {
        "_uuid": "ab31af5be48b38cb590bacb087924ca9fcec43d2"
      },
      "cell_type": "markdown",
      "source": "## Data understanding"
    },
    {
      "metadata": {
        "trusted": true,
        "_uuid": "d3d8bd7bedc9e214f9d3bdbfe46fc7988dff8a99"
      },
      "cell_type": "code",
      "source": "np.random.seed(1987)\nN = 100000 # number of sample rows in plots\nt0 = dt.datetime.now()",
      "execution_count": null,
      "outputs": []
    },
    {
      "metadata": {
        "trusted": true,
        "_uuid": "936df4ead7d648976dbb06d1722c316b811a1f1f"
      },
      "cell_type": "code",
      "source": "train = pd.read_csv('../input/train.csv')\ntest = pd.read_csv('../input/test.csv')",
      "execution_count": null,
      "outputs": []
    },
    {
      "metadata": {
        "trusted": true,
        "_uuid": "33ff44c7ada5f113d9d9c04e94d346da126600de"
      },
      "cell_type": "code",
      "source": "print('We have {} training rows and {} test rows.'.format(train.shape[0], test.shape[0]))\nprint('We have {} training columns and {} test columns.'.format(train.shape[1], test.shape[1]))\ntrain.head(2)",
      "execution_count": null,
      "outputs": []
    },
    {
      "metadata": {
        "trusted": true,
        "_uuid": "e6d786dcf4cdc61d46fb821e7d9a6c0f7dd947ee"
      },
      "cell_type": "code",
      "source": "train.info()",
      "execution_count": null,
      "outputs": []
    },
    {
      "metadata": {
        "trusted": true,
        "_uuid": "02b84f8735f59828309c0cc753c51f632890d2bf"
      },
      "cell_type": "code",
      "source": "test.info()",
      "execution_count": null,
      "outputs": []
    },
    {
      "metadata": {
        "trusted": true,
        "_uuid": "d8a70113f5736edbd4ff4bab3d66a3113959ae0f"
      },
      "cell_type": "code",
      "source": "#test 에서는  택시에서 내린 시간이 없음(dropoff_datetime)\n#duration time for trip 없음.\n#duration time을 예측하면 된다.\n#타는 곳의 좌표, 내리는 곳의 좌표를 가지고 예측",
      "execution_count": null,
      "outputs": []
    },
    {
      "metadata": {
        "trusted": true,
        "_uuid": "41ccb28007da1d2afc0ca08162569c75febee5e7"
      },
      "cell_type": "code",
      "source": "print('ID is Unique') if train.id.nunique() == train.shape[0] else print('oops')",
      "execution_count": null,
      "outputs": []
    },
    {
      "metadata": {
        "trusted": true,
        "_uuid": "d31504d3ec6ceec36b848f0efd9b72ebd6b1eee3"
      },
      "cell_type": "code",
      "source": "print('Train and test sets are distinct') if len(np.intersect1d(train.id.values, test.id.values)) == 0 else print('oops')",
      "execution_count": null,
      "outputs": []
    },
    {
      "metadata": {
        "trusted": true,
        "_uuid": "4e83ff5e9d274cdebf94ce01e54fbb4f89c559b6"
      },
      "cell_type": "code",
      "source": "train.count()",
      "execution_count": null,
      "outputs": []
    },
    {
      "metadata": {
        "trusted": true,
        "_uuid": "8780352552821289a15e889cfc2ca28a7f0cc384"
      },
      "cell_type": "code",
      "source": "print('We do not need to worry about missing values') if train.count().min() == train.shape[0] and test.count().min() == test.shape[0] else print('oops')",
      "execution_count": null,
      "outputs": []
    },
    {
      "metadata": {
        "trusted": true,
        "_uuid": "59942fbb02957ed4201bac75d8a5e11cebdfb2a8"
      },
      "cell_type": "code",
      "source": "print('The store_and_fwd_flag has only two values {}.'.format(str(set(train.store_and_fwd_flag.unique()) |\n                                                                 set(test.store_and_fwd_flag.unique()))))",
      "execution_count": null,
      "outputs": []
    },
    {
      "metadata": {
        "trusted": true,
        "_uuid": "d9273ef5fdb89c7ce146063a8febaaca09318f11"
      },
      "cell_type": "code",
      "source": "train.head()",
      "execution_count": null,
      "outputs": []
    },
    {
      "metadata": {
        "trusted": true,
        "_uuid": "9437f155b39c5e3af8ce2857ea01827423233b29"
      },
      "cell_type": "code",
      "source": "#dtype object -> datetime\ntrain['pickup_datetime'] = pd.to_datetime(train['pickup_datetime'])\ntest['pickup_datetime'] = pd.to_datetime(test['pickup_datetime'])\n\n#날짜만 뽑아서 new_column\ntrain.loc[:, 'pickup_date'] = train['pickup_datetime'].dt.time\ntest.loc[:, 'pickup_date'] = test['pickup_datetime'].dt.time\n\ntrain['dropoff_datetime'] = pd.to_datetime(train.dropoff_datetime)\n\n#'Y'인 것을 1로 / 'N' : 0\ntrain['store_and_fwd_flag'] = 1 * (train.store_and_fwd_flag.values == 'Y')\ntest['store_and_fwd_flag'] = 1 * (test.store_and_fwd_flag.values == 'Y')\n\n#걸린 시간을 second로 바꿔줌\ntrain['check_trip_duration'] = (train['dropoff_datetime'] - train['pickup_datetime']).map(lambda x: x.total_seconds())",
      "execution_count": null,
      "outputs": []
    },
    {
      "metadata": {
        "trusted": true,
        "_uuid": "1edb27fbf9ef2178dc08177894cbcb5a394d3e77"
      },
      "cell_type": "code",
      "source": "duration_difference = train[np.abs(train['check_trip_duration'].values - train['trip_duration'].values) > 1]\nprint('Trip_duration and datetimes are ok.') if len(duration_difference[['pickup_datetime', 'dropoff_datetime',\n                                                                         'trip_duration','check_trip_duration']]) == 0 else print('Oops')",
      "execution_count": null,
      "outputs": []
    },
    {
      "metadata": {
        "trusted": true,
        "_uuid": "6bbe20b66c56393189ef142ffb47afa8a75939ab"
      },
      "cell_type": "code",
      "source": "#target\ntrain['trip_duration'].max() // 3600",
      "execution_count": null,
      "outputs": []
    },
    {
      "metadata": {
        "trusted": true,
        "_uuid": "73f90ea79684f44e993d5bd4f3bcd1cd36d15e27"
      },
      "cell_type": "code",
      "source": "plt.hist(train['trip_duration'].values, bins = 100)\nplt.show()",
      "execution_count": null,
      "outputs": []
    },
    {
      "metadata": {
        "trusted": true,
        "_uuid": "bcb4229109a4a766b80910d73055977a461cea8d"
      },
      "cell_type": "code",
      "source": "#target log transformation\ntrain['log_trip_duration'] = np.log(train['trip_duration'].values + 1)\nplt.hist(train['log_trip_duration'].values, bins = 100)\nplt.xlabel('log(trip_duration)')\nplt.ylabel('number of train records')\nplt.show()",
      "execution_count": null,
      "outputs": []
    }
  ],
  "metadata": {
    "kernelspec": {
      "display_name": "Python 3",
      "language": "python",
      "name": "python3"
    },
    "language_info": {
      "name": "python",
      "version": "3.6.6",
      "mimetype": "text/x-python",
      "codemirror_mode": {
        "name": "ipython",
        "version": 3
      },
      "pygments_lexer": "ipython3",
      "nbconvert_exporter": "python",
      "file_extension": ".py"
    }
  },
  "nbformat": 4,
  "nbformat_minor": 1
}