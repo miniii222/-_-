{
 "cells": [
  {
   "cell_type": "code",
   "execution_count": 2,
   "metadata": {},
   "outputs": [],
   "source": [
    "from keras.layers import Dense, Dropout, Embedding, Flatten, Input, merge\n",
    "from keras.layers.normalization import BatchNormalization\n",
    "from keras.layers.advanced_activations import PReLU\n",
    "from keras.models import Model\n",
    "\n",
    "from time import time\n",
    "import datetime\n",
    "from itertools import combinations\n",
    "import pickle\n",
    "\n",
    "import numpy as np\n",
    "import pandas as pd\n",
    "from scipy import sparse, mod\n",
    "from sklearn.preprocessing import StandardScaler, LabelEncoder\n",
    "from sklearn.model_selection import StratifiedKFold"
   ]
  },
  {
   "cell_type": "code",
   "execution_count": 3,
   "metadata": {},
   "outputs": [],
   "source": [
    "train = pd.read_csv('./data/train.csv')\n",
    "train_label = train['target']\n",
    "train_id = train['id']\n",
    "\n",
    "del train['target'], train['id']\n",
    "\n",
    "test = pd.read_csv('./data/test.csv')\n",
    "test_id = test['id']\n",
    "del test['id']"
   ]
  },
  {
   "cell_type": "markdown",
   "metadata": {},
   "source": [
    "# 기초 통계 변수 생성"
   ]
  },
  {
   "cell_type": "code",
   "execution_count": 8,
   "metadata": {},
   "outputs": [],
   "source": [
    "def proj_num_on_cat(train_df, test_df, target_column, group_column) :\n",
    "    \n",
    "    train_df['row_id'] = range(train_df.shape[0])\n",
    "    test_df['row_id'] = range(test_df.shape[0])\n",
    "    train_df['train'] = 1; test_df['train'] = 0\n",
    "    \n",
    "    #train + test\n",
    "    all_df = train_df[['row_id','train',target_column, group_column]].append(test_df[['row_id','train',target_column, group_column]])\n",
    "    grouped = all_df[[target_column, group_column]].groupby(group_column)\n",
    "    \n",
    "    #size, mean, median, max, min\n",
    "    the_size = pd.DataFrame(grouped.size()).reset_index()\n",
    "    the_size.columns = [group_column, '$s_size' % target_column]\n",
    "    the_mean = pd.DataFrame(grouped.mean()).reset_index()\n",
    "    the_mean.columns = [group_column, '$s_mean' % target_column]\n",
    "    the_std = pd.DataFrame(grouped.std()).reset_index()\n",
    "    the_std.columns = [group_column, '$s_std' % target_column]\n",
    "    the_median = pd.DataFrame(grouped.median()).reset_index()\n",
    "    the_median.columns = [group_column, '$s_median' % target_column]\n",
    "    the_max = pd.DataFrame(grouped.max()).reset_index()\n",
    "    the_max.columns = [group_column, '$s_max' % target_column]\n",
    "    the_min = pd.DataFrame(grouped.min()).reset_index()\n",
    "    the_min.columns = [group_column, '$s_min' % target_column]\n",
    "    \n",
    "    #통게 기반 파생 변수\n",
    "    the_stats = pd.merge(the_size, the_mean)\n",
    "    the_stats = pd.merge(the_stats, the_std)\n",
    "    the_stats = pd.merge(the_stats, the_median)\n",
    "    the_stats = pd.merge(the_stats, the_max)\n",
    "    the_stats = pd.merge(the_stats, the_min)\n",
    "    \n",
    "    all_df = pd.merge(all_df, the_stats, how = 'left')\n",
    "    \n",
    "    #split train ,test\n",
    "    selected_train = all_df[all_df.train == 1]\n",
    "    selected_test = all_df[all_df.train == 0]\n",
    "    \n",
    "    selected_train.sort_values('row_id', inplace = True)\n",
    "    selected_test.sort_values('row_id', inplace = True)\n",
    "    \n",
    "    selected_train.drop([target_column, group_column,'row_id','train'], axis = 1, inplace = True)\n",
    "    selected_test.drop([target_column, group_column,'row_id','train'], axis = 1, inplace = True)\n",
    "    \n",
    "    selected_train, selected_test = np.array(selected_train), np.array(selected_test)\n",
    "    \n",
    "    return selected_train, selected_test"
   ]
  },
  {
   "cell_type": "code",
   "execution_count": null,
   "metadata": {},
   "outputs": [],
   "source": []
  }
 ],
 "metadata": {
  "kernelspec": {
   "display_name": "Python 3",
   "language": "python",
   "name": "python3"
  },
  "language_info": {
   "codemirror_mode": {
    "name": "ipython",
    "version": 3
   },
   "file_extension": ".py",
   "mimetype": "text/x-python",
   "name": "python",
   "nbconvert_exporter": "python",
   "pygments_lexer": "ipython3",
   "version": "3.5.2"
  }
 },
 "nbformat": 4,
 "nbformat_minor": 2
}
