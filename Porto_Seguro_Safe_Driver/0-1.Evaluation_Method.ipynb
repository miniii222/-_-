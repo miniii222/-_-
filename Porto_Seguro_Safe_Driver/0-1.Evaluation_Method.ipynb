{
 "cells": [
  {
   "cell_type": "markdown",
   "metadata": {},
   "source": [
    "# Gini Index(경제적 관점)\n",
    "![image](https://upload.wikimedia.org/wikipedia/commons/thumb/5/59/Economics_Gini_coefficient2.svg/1024px-Economics_Gini_coefficient2.svg.png)\n",
    "\n",
    "- Lorenz Curve : 모든 경제 인구를 소득순으로 정렬한 후에, 그들의 누적 소득의 합을 그린 그래프\n",
    "- 이상적으로 균등하게 배분되었다면, 45도의 그려질 것\n",
    "- 부의 불균형으로 로렌츠 곡선이 생기게 된다\n",
    "- Gini Index는 45도 직선과 로렌츠 곡선 사이의 면적을 삼각형 전체의 면적으로 나눈 값\n",
    "- 부의 불균형이 높을수록 값이 커진다"
   ]
  },
  {
   "cell_type": "markdown",
   "metadata": {},
   "source": [
    "# Gini_Index(not 경제적 관점)"
   ]
  },
  {
   "cell_type": "code",
   "execution_count": 65,
   "metadata": {
    "ExecuteTime": {
     "end_time": "2019-05-31T13:08:20.653970Z",
     "start_time": "2019-05-31T13:08:20.648986Z"
    }
   },
   "outputs": [],
   "source": [
    "predictions = [0.9,0.3,0.8,0.75,0.65,0.6,0.78,0.7,0.05,0.4,0.4,0.05,0.5,0.1,0.1]\n",
    "actual = [1,1,1,1,1,1,0,0,0,0,0,0,0,0,0]"
   ]
  },
  {
   "cell_type": "code",
   "execution_count": 2,
   "metadata": {
    "ExecuteTime": {
     "end_time": "2019-05-31T12:29:24.123354Z",
     "start_time": "2019-05-31T12:29:23.336560Z"
    }
   },
   "outputs": [],
   "source": [
    "import numpy as np"
   ]
  },
  {
   "cell_type": "code",
   "execution_count": 9,
   "metadata": {
    "ExecuteTime": {
     "end_time": "2019-05-31T12:38:45.280871Z",
     "start_time": "2019-05-31T12:38:45.272931Z"
    }
   },
   "outputs": [
    {
     "data": {
      "text/plain": [
       "array([[ 1.  ,  0.9 ,  0.  ],\n",
       "       [ 1.  ,  0.3 ,  1.  ],\n",
       "       [ 1.  ,  0.8 ,  2.  ],\n",
       "       [ 1.  ,  0.75,  3.  ],\n",
       "       [ 1.  ,  0.65,  4.  ],\n",
       "       [ 1.  ,  0.6 ,  5.  ],\n",
       "       [ 0.  ,  0.78,  6.  ],\n",
       "       [ 0.  ,  0.7 ,  7.  ],\n",
       "       [ 0.  ,  0.05,  8.  ],\n",
       "       [ 0.  ,  0.4 ,  9.  ],\n",
       "       [ 0.  ,  0.4 , 10.  ],\n",
       "       [ 0.  ,  0.05, 11.  ],\n",
       "       [ 0.  ,  0.5 , 12.  ],\n",
       "       [ 0.  ,  0.1 , 13.  ],\n",
       "       [ 0.  ,  0.1 , 14.  ]])"
      ]
     },
     "execution_count": 9,
     "metadata": {},
     "output_type": "execute_result"
    }
   ],
   "source": [
    "all = np.c_[actual, predictions,np.arange(len(actual))] #신기방기 새로운 표현 익힘\n",
    "all"
   ]
  },
  {
   "cell_type": "code",
   "execution_count": 10,
   "metadata": {
    "ExecuteTime": {
     "end_time": "2019-05-31T12:39:04.384171Z",
     "start_time": "2019-05-31T12:39:04.378185Z"
    }
   },
   "outputs": [
    {
     "data": {
      "text/plain": [
       "array([ 0,  2,  6,  3,  7,  4,  5, 12,  9, 10,  1, 13, 14,  8, 11],\n",
       "      dtype=int64)"
      ]
     },
     "execution_count": 10,
     "metadata": {},
     "output_type": "execute_result"
    }
   ],
   "source": [
    "np.lexsort((all[:,2] , -1 * all[:,1]))"
   ]
  },
  {
   "cell_type": "code",
   "execution_count": 12,
   "metadata": {
    "ExecuteTime": {
     "end_time": "2019-05-31T12:41:58.050227Z",
     "start_time": "2019-05-31T12:41:58.042286Z"
    }
   },
   "outputs": [
    {
     "data": {
      "text/plain": [
       "75.0"
      ]
     },
     "execution_count": 12,
     "metadata": {},
     "output_type": "execute_result"
    }
   ],
   "source": [
    "all[:,0].cumsum().sum()"
   ]
  },
  {
   "cell_type": "code",
   "execution_count": 16,
   "metadata": {
    "ExecuteTime": {
     "end_time": "2019-05-31T12:47:25.948966Z",
     "start_time": "2019-05-31T12:47:25.936003Z"
    }
   },
   "outputs": [],
   "source": [
    "def gini(actual, pred) :\n",
    "    assert (len(actual) == len(pred))\n",
    "    \n",
    "    all = np.asarray(np.c_[actual, predictions, np.arange(len(actual))], dtype = np.float)\n",
    "    all = all[np.lexsort((all[:,2], -1 * all[:,1]))]\n",
    "    totalLosses = all[:, 0].sum()\n",
    "    giniSum = all[:,0].cumsum().sum() / totalLosses\n",
    "    giniSum -= (len(actual) +1)/2\n",
    "    \n",
    "    return giniSum / len(actual)\n",
    "\n",
    "def gini_normalized(actual, pred) :\n",
    "    return gini(actual, pred) / gini(actual, actual)"
   ]
  },
  {
   "cell_type": "code",
   "execution_count": 29,
   "metadata": {
    "ExecuteTime": {
     "end_time": "2019-05-31T12:49:04.609919Z",
     "start_time": "2019-05-31T12:49:04.601974Z"
    }
   },
   "outputs": [
    {
     "name": "stdout",
     "output_type": "stream",
     "text": [
      "Gini : 0.189 Max Gini : 0.189, Normalized Gnin : 1.000\n"
     ]
    }
   ],
   "source": [
    "gini_pred = gini(actual, predictions)\n",
    "gini_max = gini(actual, actual)\n",
    "ngini = gini_normalized(actual, predictions)\n",
    "\n",
    "print('Gini : %.3f Max Gini : %.3f, Normalized Gnin : %.3f' % (gini_pred, gini_max, ngini))"
   ]
  },
  {
   "cell_type": "code",
   "execution_count": 32,
   "metadata": {
    "ExecuteTime": {
     "end_time": "2019-05-31T12:52:13.135309Z",
     "start_time": "2019-05-31T12:52:13.129330Z"
    }
   },
   "outputs": [
    {
     "name": "stdout",
     "output_type": "stream",
     "text": [
      "Sorted Actual Values \n",
      " [(0, 0.05), (0, 0.05), (0, 0.1), (0, 0.1), (1, 0.3), (0, 0.4), (0, 0.4), (0, 0.5), (1, 0.6), (1, 0.65), (0, 0.7), (1, 0.75), (0, 0.78), (1, 0.8), (1, 0.9)]\n"
     ]
    }
   ],
   "source": [
    "data = zip(actual, predictions)\n",
    "sorted_data = sorted(data, key = lambda d : d[1]) #prediction 기준으로 sorting\n",
    "sorted_actual = [d[0] for d in sorted_data]\n",
    "print('Sorted Actual Values \\n', sorted_data)"
   ]
  },
  {
   "cell_type": "code",
   "execution_count": 38,
   "metadata": {
    "ExecuteTime": {
     "end_time": "2019-05-31T12:55:37.601617Z",
     "start_time": "2019-05-31T12:55:37.025878Z"
    }
   },
   "outputs": [],
   "source": [
    "import matplotlib.pyplot as plt"
   ]
  },
  {
   "cell_type": "code",
   "execution_count": 41,
   "metadata": {
    "ExecuteTime": {
     "end_time": "2019-05-31T12:59:14.584003Z",
     "start_time": "2019-05-31T12:59:14.578011Z"
    }
   },
   "outputs": [
    {
     "data": {
      "text/plain": [
       "array([0, 0, 0, 0, 1, 1, 1, 1, 2, 3, 3, 4, 4, 5, 6], dtype=int32)"
      ]
     },
     "execution_count": 41,
     "metadata": {},
     "output_type": "execute_result"
    }
   ],
   "source": [
    "sorted_actual_cum = np.cumsum(sorted_actual)\n",
    "sorted_actual_cum"
   ]
  },
  {
   "cell_type": "code",
   "execution_count": 42,
   "metadata": {
    "ExecuteTime": {
     "end_time": "2019-05-31T12:59:18.501872Z",
     "start_time": "2019-05-31T12:59:18.347641Z"
    }
   },
   "outputs": [
    {
     "data": {
      "text/plain": [
       "[<matplotlib.lines.Line2D at 0x27848f58f60>]"
      ]
     },
     "execution_count": 42,
     "metadata": {},
     "output_type": "execute_result"
    },
    {
     "data": {
      "image/png": "[encoded data removed]",
      "text/plain": [
       "<Figure size 432x288 with 1 Axes>"
      ]
     },
     "metadata": {
      "needs_background": "light"
     },
     "output_type": "display_data"
    }
   ],
   "source": [
    "#로렌츠 곡선\n",
    "plt.plot(sorted_actual_cum)"
   ]
  },
  {
   "cell_type": "code",
   "execution_count": 55,
   "metadata": {
    "ExecuteTime": {
     "end_time": "2019-05-31T13:05:19.288083Z",
     "start_time": "2019-05-31T13:05:19.136813Z"
    }
   },
   "outputs": [
    {
     "data": {
      "text/plain": [
       "[]"
      ]
     },
     "execution_count": 55,
     "metadata": {},
     "output_type": "execute_result"
    },
    {
     "data": {
      "image/png": "[encoded data removed]",
      "text/plain": [
       "<Figure size 432x288 with 1 Axes>"
      ]
     },
     "metadata": {
      "needs_background": "light"
     },
     "output_type": "display_data"
    }
   ],
   "source": [
    "#정규화된 로렌츠 곡선\n",
    "plt.plot([0,1], c = 'r')\n",
    "plt.plot(np.linspace(0,1,num = len(sorted_actual)) ,sorted_actual_cum / 6)\n",
    "plt.plot()"
   ]
  },
  {
   "cell_type": "markdown",
   "metadata": {},
   "source": [
    "gini index는 빨간 선과 파란 선 사이의 면적! - 0.189"
   ]
  },
  {
   "cell_type": "code",
   "execution_count": 67,
   "metadata": {
    "ExecuteTime": {
     "end_time": "2019-05-31T13:08:54.636184Z",
     "start_time": "2019-05-31T13:08:54.489812Z"
    }
   },
   "outputs": [
    {
     "data": {
      "text/plain": [
       "[]"
      ]
     },
     "execution_count": 67,
     "metadata": {},
     "output_type": "execute_result"
    },
    {
     "data": {
      "image/png": "[encoded data removed]",
      "text/plain": [
       "<Figure size 432x288 with 1 Axes>"
      ]
     },
     "metadata": {
      "needs_background": "light"
     },
     "output_type": "display_data"
    }
   ],
   "source": [
    "#모든 정답을 다 맞췄을 떄의 모습\n",
    "plt.plot([0,1], c = 'r')\n",
    "plt.plot(np.linspace(0,1,num = len(sorted_actual)) ,np.sort(actual).cumsum() / 6)\n",
    "plt.plot()"
   ]
  },
  {
   "cell_type": "markdown",
   "metadata": {},
   "source": [
    "면적은 0.3"
   ]
  },
  {
   "cell_type": "code",
   "execution_count": 68,
   "metadata": {
    "ExecuteTime": {
     "end_time": "2019-05-31T13:09:38.628685Z",
     "start_time": "2019-05-31T13:09:38.623698Z"
    }
   },
   "outputs": [
    {
     "data": {
      "text/plain": [
       "0.63"
      ]
     },
     "execution_count": 68,
     "metadata": {},
     "output_type": "execute_result"
    }
   ],
   "source": [
    "#정규화된 지니 계수 값\n",
    "0.189 / 0.3"
   ]
  },
  {
   "cell_type": "markdown",
   "metadata": {},
   "source": [
    "- 예측값들의 상대적 순서를 기준으로 점수를 계산\n",
    "- 확률값이 크기 혹은 예측값들 간의 상대적 점수 격차는 고려되지 안흔다.\n",
    "- 1에 가까울수록 성능이 좋음!"
   ]
  },
  {
   "cell_type": "code",
   "execution_count": null,
   "metadata": {},
   "outputs": [],
   "source": []
  }
 ],
 "metadata": {
  "hide_input": false,
  "kernelspec": {
   "display_name": "Python 3",
   "language": "python",
   "name": "python3"
  },
  "language_info": {
   "codemirror_mode": {
    "name": "ipython",
    "version": 3
   },
   "file_extension": ".py",
   "mimetype": "text/x-python",
   "name": "python",
   "nbconvert_exporter": "python",
   "pygments_lexer": "ipython3",
   "version": "3.7.1"
  },
  "toc": {
   "base_numbering": 1,
   "nav_menu": {},
   "number_sections": true,
   "sideBar": true,
   "skip_h1_title": false,
   "title_cell": "Table of Contents",
   "title_sidebar": "Contents",
   "toc_cell": false,
   "toc_position": {},
   "toc_section_display": true,
   "toc_window_display": true
  }
 },
 "nbformat": 4,
 "nbformat_minor": 2
}
